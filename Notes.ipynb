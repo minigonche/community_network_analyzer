{
 "cells": [
  {
   "cell_type": "markdown",
   "metadata": {},
   "source": [
    "# Notes"
   ]
  },
  {
   "cell_type": "code",
   "execution_count": null,
   "metadata": {},
   "outputs": [],
   "source": [
    "sudo singularity build community_network_analyzer.sif Singularity.def"
   ]
  },
  {
   "cell_type": "code",
   "execution_count": 19,
   "metadata": {},
   "outputs": [],
   "source": [
    "import numpy as np\n",
    "\n",
    "\n",
    "input_path = \"/home/minigonche/Dropbox/Projects/TartuU/community_network_analyzer/Cluster19_mx_03\"\n",
    "#input_path = \"/home/minigonche/Dropbox/Projects/TartuU/community_network_analyzer/cluster_temp\"\n",
    "\n",
    "\n",
    "\n",
    "cut_off = 0.05"
   ]
  },
  {
   "cell_type": "code",
   "execution_count": 96,
   "metadata": {},
   "outputs": [],
   "source": [
    "import numpy as np\n",
    "from sklearn.cluster import AgglomerativeClustering\n",
    "from scipy.cluster.hierarchy import dendrogram, linkage\n",
    "import matplotlib.pyplot as plt\n",
    "import pandas as pd\n",
    "\n",
    "\n",
    "def read_sparse_matrix(input_path, labels_set):\n",
    "    \"\"\"\n",
    "    Reads a sparse distance matrix from the given input file and returns a dictionary of distances and a list of labels.\n",
    "    \"\"\"\n",
    "\n",
    "    dist_matrix = pd.DataFrame(index = labels_set, columns=labels_set)\n",
    "\n",
    "    with open(input_path, 'r') as file:\n",
    "        for line in file:\n",
    "            label1, label2, distance = line.strip().split()\n",
    "            distance = float(distance)\n",
    "            dist_matrix.loc[label1, label2] = distance\n",
    "            dist_matrix.loc[label2, label1] = distance\n",
    "\n",
    "    dist_matrix = dist_matrix.fillna(100*dist_matrix.max().max())\n",
    "    return dist_matrix\n",
    "\n",
    "dist_matrix = read_sparse_matrix(input_path, labels_set)"
   ]
  },
  {
   "cell_type": "code",
   "execution_count": 128,
   "metadata": {},
   "outputs": [
    {
     "name": "stdout",
     "output_type": "stream",
     "text": [
      "Total Clusters: 1468\n",
      "Ok\n"
     ]
    }
   ],
   "source": [
    "\n",
    "# Perform clustering with cutoff distance of 0.05\n",
    "cluster_cutoff = 0.003\n",
    "\n",
    "\n",
    "scikit_clusters = AgglomerativeClustering(n_clusters=None, distance_threshold=cluster_cutoff, linkage='single', metric = \"precomputed\").fit_predict(dist_matrix)\n",
    "labels_list, custom_labels = get_single_linkage_clusters(input_path, cluster_cutoff)\n",
    "\n",
    "custom_labels = np.array(custom_labels)\n",
    "labels_list = np.array(labels_list)\n",
    "\n",
    "print(f\"Total Clusters: {len(np.unique(custom_labels))}\")\n",
    "\n",
    "fail = len(np.unique(custom_labels)) != len(np.unique(scikit_clusters))\n",
    "\n",
    "if not fail:\n",
    "    for i in range(len(custom_labels)):\n",
    "        clust_i = custom_labels[i]\n",
    "        indices = np.where(custom_labels == clust_i)[0]\n",
    "\n",
    "        if not len(np.unique(scikit_clusters[indices])) == 1:\n",
    "            fail = True\n",
    "            break\n",
    "        \n",
    "if not fail:\n",
    "    print(\"Ok\")\n",
    "else:\n",
    "    print(\"Fail\")\n"
   ]
  },
  {
   "cell_type": "code",
   "execution_count": 98,
   "metadata": {},
   "outputs": [
    {
     "data": {
      "text/html": [
       "<div>\n",
       "<style scoped>\n",
       "    .dataframe tbody tr th:only-of-type {\n",
       "        vertical-align: middle;\n",
       "    }\n",
       "\n",
       "    .dataframe tbody tr th {\n",
       "        vertical-align: top;\n",
       "    }\n",
       "\n",
       "    .dataframe thead th {\n",
       "        text-align: right;\n",
       "    }\n",
       "</style>\n",
       "<table border=\"1\" class=\"dataframe\">\n",
       "  <thead>\n",
       "    <tr style=\"text-align: right;\">\n",
       "      <th></th>\n",
       "      <th>iid_19667i</th>\n",
       "      <th>iid_111293i</th>\n",
       "      <th>iid_84828i</th>\n",
       "      <th>iid_99245i</th>\n",
       "      <th>iid_196577i</th>\n",
       "      <th>iid_152272i</th>\n",
       "      <th>iid_104029i</th>\n",
       "      <th>iid_179731i</th>\n",
       "      <th>iid_1100i</th>\n",
       "      <th>iid_41831i</th>\n",
       "      <th>...</th>\n",
       "      <th>iid_140726i</th>\n",
       "      <th>iid_29633i</th>\n",
       "      <th>iid_19334i</th>\n",
       "      <th>iid_233911i</th>\n",
       "      <th>iid_77415i</th>\n",
       "      <th>iid_194204i</th>\n",
       "      <th>iid_178927i</th>\n",
       "      <th>iid_57330i</th>\n",
       "      <th>iid_196709i</th>\n",
       "      <th>iid_31860i</th>\n",
       "    </tr>\n",
       "  </thead>\n",
       "  <tbody>\n",
       "  </tbody>\n",
       "</table>\n",
       "<p>0 rows × 1468 columns</p>\n",
       "</div>"
      ],
      "text/plain": [
       "Empty DataFrame\n",
       "Columns: [iid_19667i, iid_111293i, iid_84828i, iid_99245i, iid_196577i, iid_152272i, iid_104029i, iid_179731i, iid_1100i, iid_41831i, iid_166177i, iid_96295i, iid_102438i, iid_143180i, iid_190905i, iid_3301i, iid_104338i, iid_133684i, iid_235085i, iid_217138i, iid_98801i, iid_137910i, iid_59413i, iid_119448i, iid_105257i, iid_201717i, iid_233441i, iid_222929i, iid_234511i, iid_215281i, iid_28462i, iid_240008i, iid_6688i, iid_168146i, iid_97531i, iid_60558i, iid_209162i, iid_23533i, iid_109337i, iid_98214i, iid_47925i, iid_138509i, iid_184892i, iid_149197i, iid_139768i, iid_116783i, iid_205190i, iid_56241i, iid_229602i, iid_23703i, iid_157761i, iid_78199i, iid_234292i, iid_182911i, iid_131946i, iid_239850i, iid_234621i, iid_18191i, iid_221240i, iid_237903i, iid_39970i, iid_164421i, iid_45837i, iid_134152i, iid_231731i, iid_144189i, iid_17720i, iid_99826i, iid_38620i, iid_238955i, iid_187690i, iid_178891i, iid_149298i, iid_227464i, iid_120071i, iid_74482i, iid_80483i, iid_225222i, iid_132802i, iid_35828i, iid_175764i, iid_32276i, iid_105695i, iid_182054i, iid_160025i, iid_148421i, iid_174085i, iid_151408i, iid_31914i, iid_32975i, iid_43760i, iid_222140i, iid_100373i, iid_143857i, iid_59133i, iid_251032i, iid_79048i, iid_73923i, iid_67996i, iid_102476i, ...]\n",
       "Index: []\n",
       "\n",
       "[0 rows x 1468 columns]"
      ]
     },
     "execution_count": 98,
     "metadata": {},
     "output_type": "execute_result"
    }
   ],
   "source": [
    "dist_matrix.loc[labels_set[custom_labels == 0],labels_set[custom_labels != 0]]\n"
   ]
  },
  {
   "cell_type": "code",
   "execution_count": 6,
   "metadata": {},
   "outputs": [],
   "source": [
    "import pandas as pd\n",
    "\n",
    "meta1 = pd.read_excel(\"/home/minigonche/Dropbox/Projects/TartuU/community_network_analyzer/LUCAS_Funct/metadata_for_samples.xlsx\")\n",
    "meta2 = pd.read_excel(\"/home/minigonche/Dropbox/Projects/TartuU/community_network_analyzer/LUCAS_Funct/additional metadata for samples.xlsx\")\n",
    "\n",
    "meta1 = meta1.drop(['Bulk_Density_0_10_cm_imputed','Bulk_Density_10_20_cm_imputed'], axis = 1)\n",
    "\n",
    "\n",
    "meta3 = meta1.merge(meta2)\n",
    "\n",
    "meta3.to_excel(\"/home/minigonche/Dropbox/Projects/TartuU/community_network_analyzer/LUCAS_Funct/metadata_for_samples_2.xlsx\")\n"
   ]
  }
 ],
 "metadata": {
  "kernelspec": {
   "display_name": "Python 3.10.6 64-bit",
   "language": "python",
   "name": "python3"
  },
  "language_info": {
   "codemirror_mode": {
    "name": "ipython",
    "version": 3
   },
   "file_extension": ".py",
   "mimetype": "text/x-python",
   "name": "python",
   "nbconvert_exporter": "python",
   "pygments_lexer": "ipython3",
   "version": "3.10.6"
  },
  "orig_nbformat": 4,
  "vscode": {
   "interpreter": {
    "hash": "31f2aee4e71d21fbe5cf8b01ff0e069b9275f58929596ceb00d14d90e3e16cd6"
   }
  }
 },
 "nbformat": 4,
 "nbformat_minor": 2
}
